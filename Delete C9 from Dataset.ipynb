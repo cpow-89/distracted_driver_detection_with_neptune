{
 "cells": [
  {
   "cell_type": "markdown",
   "metadata": {},
   "source": [
    "# Delete C9 from Dataset"
   ]
  },
  {
   "cell_type": "code",
   "execution_count": 47,
   "metadata": {},
   "outputs": [],
   "source": [
    "from shutil import copyfile\n",
    "from pathlib import Path\n",
    "import os"
   ]
  },
  {
   "cell_type": "code",
   "execution_count": 48,
   "metadata": {},
   "outputs": [],
   "source": [
    "dir_data = Path(\"./dataset\")\n",
    "dir_image = dir_data/\"images\"\n",
    "path_valid = dir_data/\"valid.txt\"\n",
    "dir_clean_data = Path(\"./clean_dataset\")\n",
    "clean_valid_path = dir_clean_data/\"valid.txt\""
   ]
  },
  {
   "cell_type": "code",
   "execution_count": 49,
   "metadata": {},
   "outputs": [],
   "source": [
    "clean_valid_set = []\n",
    "with open(path_valid, 'r') as f:\n",
    "    for line in f.readlines():\n",
    "        if line.split(\"_\")[1] != \"c9\":\n",
    "            clean_valid_set.append(line.strip(\"\\n\"))"
   ]
  },
  {
   "cell_type": "code",
   "execution_count": 50,
   "metadata": {},
   "outputs": [],
   "source": [
    "if not os.path.exists(dir_clean_data):\n",
    "        os.makedirs(dir_clean_data)"
   ]
  },
  {
   "cell_type": "code",
   "execution_count": 51,
   "metadata": {},
   "outputs": [],
   "source": [
    "with open(dir_clean_data/\"valid.txt\", \"w\") as f:\n",
    "    for item in clean_valid_set:\n",
    "        f.write(\"%s\\n\" % item)"
   ]
  },
  {
   "cell_type": "code",
   "execution_count": 55,
   "metadata": {},
   "outputs": [],
   "source": [
    "# Copy all images != C9 to clean dataset"
   ]
  },
  {
   "cell_type": "code",
   "execution_count": 52,
   "metadata": {},
   "outputs": [],
   "source": [
    "onlyfiles = [f for f in os.listdir(dir_image) if os.path.isfile(os.path.join(dir_image, f))]"
   ]
  },
  {
   "cell_type": "code",
   "execution_count": 53,
   "metadata": {},
   "outputs": [],
   "source": [
    "if not os.path.exists(dir_clean_data/\"images\"):\n",
    "        os.makedirs(dir_clean_data/\"images\")"
   ]
  },
  {
   "cell_type": "code",
   "execution_count": 54,
   "metadata": {},
   "outputs": [],
   "source": [
    "for file in onlyfiles:\n",
    "    if file.split(\"_\")[1] != \"c9\":\n",
    "        copyfile(dir_image/file, dir_clean_data/\"images\"/file)"
   ]
  }
 ],
 "metadata": {
  "kernelspec": {
   "display_name": "Python 3",
   "language": "python",
   "name": "python3"
  },
  "language_info": {
   "codemirror_mode": {
    "name": "ipython",
    "version": 3
   },
   "file_extension": ".py",
   "mimetype": "text/x-python",
   "name": "python",
   "nbconvert_exporter": "python",
   "pygments_lexer": "ipython3",
   "version": "3.7.5"
  },
  "neptune": {
   "notebookId": "941cd4da-997c-4f38-84a4-5e3bceb7f3cb"
  },
  "pycharm": {
   "stem_cell": {
    "cell_type": "raw",
    "metadata": {
     "collapsed": false
    },
    "source": []
   }
  }
 },
 "nbformat": 4,
 "nbformat_minor": 2
}
